{
 "cells": [
  {
   "cell_type": "code",
   "execution_count": 1,
   "metadata": {
    "collapsed": true
   },
   "outputs": [],
   "source": [
    "sentence = '''\n",
    "James Maitland \"Jimmy\" Stewart (May 20, 1908 – July 2, 1997) was an American actor and military pilot. Known for his distinctive drawl and everyman screen persona, Stewart's film career spanned 80 films from 1935 to 1991. With the strong morality he portrayed both on and off the screen, he epitomized the \"American ideal\" in the mid-twentieth century. In 1999, the American Film Institute (AFI) ranked him third on its list of the greatest American male actors.[1]\n",
    "Born and raised in Indiana, Pennsylvania, Stewart started acting while at Princeton University. After graduating in 1932, he began a career as a stage actor, appearing on Broadway and in summer stock productions. In 1935, he landed his first supporting role in a movie and in 1938 he had his breakthrough in Frank Capra's ensemble comedy You Can't Take It with You. The following year, Stewart garnered his first of five Academy Award nominations for his portrayal of an idealized and virtuous man who becomes a senator in Capra's Mr. Smith Goes to Washington (1939). He won the Academy Award for Best Actor, the only competitive Oscar of his career, for his work in the comedy The Philadelphia Story (1940), which also starred Katharine Hepburn and Cary Grant. A licensed amateur pilot, Stewart enlisted in the Army Air Forces soon after the US entered the Second World War in 1941. After action in Europe, he attained the rank of colonel and received several awards for his service. He was promoted to brigadier general in the Air Force Reserve in 1959, and retired in 1968 at which time he was awarded the Air Force Distinguished Service Medal. There are several claims that President Ronald Reagan promoted Stewart to the honorary rank of major general in May 1985 at the same time as awarding his Medal of Freedom, but this is unsupported by evidence, as there was no legislative authorization for such a promotion, the record of the Medal of Freedom presentation at the Reagan Library contains no mention of a promotion,[2] and the video of the presentation contains no promotion.[3] President Reagan also recounted at a White House briefing that he was corrected by Stewart himself after Reagan incorrectly insisted he was a major general at a campaign event.[4]\n",
    "'''"
   ]
  },
  {
   "cell_type": "markdown",
   "source": [
    "### NLTK를 이용한 토크나이징 (Word)"
   ],
   "metadata": {
    "collapsed": false
   }
  },
  {
   "cell_type": "code",
   "execution_count": 2,
   "outputs": [
    {
     "name": "stdout",
     "output_type": "stream",
     "text": [
      "['James', 'Maitland', '``', 'Jimmy', \"''\", 'Stewart', '(', 'May', '20', ',', '1908', '–', 'July', '2', ',', '1997', ')', 'was', 'an', 'American', 'actor', 'and', 'military', 'pilot', '.', 'Known', 'for', 'his', 'distinctive', 'drawl', 'and', 'everyman', 'screen', 'persona', ',', 'Stewart', \"'s\", 'film', 'career', 'spanned', '80', 'films', 'from', '1935', 'to', '1991', '.', 'With', 'the', 'strong', 'morality', 'he', 'portrayed', 'both', 'on', 'and', 'off', 'the', 'screen', ',', 'he', 'epitomized', 'the', '``', 'American', 'ideal', \"''\", 'in', 'the', 'mid-twentieth', 'century', '.', 'In', '1999', ',', 'the', 'American', 'Film', 'Institute', '(', 'AFI', ')', 'ranked', 'him', 'third', 'on', 'its', 'list', 'of', 'the', 'greatest', 'American', 'male', 'actors', '.', '[', '1', ']', 'Born', 'and', 'raised', 'in', 'Indiana', ',', 'Pennsylvania', ',', 'Stewart', 'started', 'acting', 'while', 'at', 'Princeton', 'University', '.', 'After', 'graduating', 'in', '1932', ',', 'he', 'began', 'a', 'career', 'as', 'a', 'stage', 'actor', ',', 'appearing', 'on', 'Broadway', 'and', 'in', 'summer', 'stock', 'productions', '.', 'In', '1935', ',', 'he', 'landed', 'his', 'first', 'supporting', 'role', 'in', 'a', 'movie', 'and', 'in', '1938', 'he', 'had', 'his', 'breakthrough', 'in', 'Frank', 'Capra', \"'s\", 'ensemble', 'comedy', 'You', 'Ca', \"n't\", 'Take', 'It', 'with', 'You', '.', 'The', 'following', 'year', ',', 'Stewart', 'garnered', 'his', 'first', 'of', 'five', 'Academy', 'Award', 'nominations', 'for', 'his', 'portrayal', 'of', 'an', 'idealized', 'and', 'virtuous', 'man', 'who', 'becomes', 'a', 'senator', 'in', 'Capra', \"'s\", 'Mr.', 'Smith', 'Goes', 'to', 'Washington', '(', '1939', ')', '.', 'He', 'won', 'the', 'Academy', 'Award', 'for', 'Best', 'Actor', ',', 'the', 'only', 'competitive', 'Oscar', 'of', 'his', 'career', ',', 'for', 'his', 'work', 'in', 'the', 'comedy', 'The', 'Philadelphia', 'Story', '(', '1940', ')', ',', 'which', 'also', 'starred', 'Katharine', 'Hepburn', 'and', 'Cary', 'Grant', '.', 'A', 'licensed', 'amateur', 'pilot', ',', 'Stewart', 'enlisted', 'in', 'the', 'Army', 'Air', 'Forces', 'soon', 'after', 'the', 'US', 'entered', 'the', 'Second', 'World', 'War', 'in', '1941', '.', 'After', 'action', 'in', 'Europe', ',', 'he', 'attained', 'the', 'rank', 'of', 'colonel', 'and', 'received', 'several', 'awards', 'for', 'his', 'service', '.', 'He', 'was', 'promoted', 'to', 'brigadier', 'general', 'in', 'the', 'Air', 'Force', 'Reserve', 'in', '1959', ',', 'and', 'retired', 'in', '1968', 'at', 'which', 'time', 'he', 'was', 'awarded', 'the', 'Air', 'Force', 'Distinguished', 'Service', 'Medal', '.', 'There', 'are', 'several', 'claims', 'that', 'President', 'Ronald', 'Reagan', 'promoted', 'Stewart', 'to', 'the', 'honorary', 'rank', 'of', 'major', 'general', 'in', 'May', '1985', 'at', 'the', 'same', 'time', 'as', 'awarding', 'his', 'Medal', 'of', 'Freedom', ',', 'but', 'this', 'is', 'unsupported', 'by', 'evidence', ',', 'as', 'there', 'was', 'no', 'legislative', 'authorization', 'for', 'such', 'a', 'promotion', ',', 'the', 'record', 'of', 'the', 'Medal', 'of', 'Freedom', 'presentation', 'at', 'the', 'Reagan', 'Library', 'contains', 'no', 'mention', 'of', 'a', 'promotion', ',', '[', '2', ']', 'and', 'the', 'video', 'of', 'the', 'presentation', 'contains', 'no', 'promotion', '.', '[', '3', ']', 'President', 'Reagan', 'also', 'recounted', 'at', 'a', 'White', 'House', 'briefing', 'that', 'he', 'was', 'corrected', 'by', 'Stewart', 'himself', 'after', 'Reagan', 'incorrectly', 'insisted', 'he', 'was', 'a', 'major', 'general', 'at', 'a', 'campaign', 'event', '.', '[', '4', ']']\n"
     ]
    }
   ],
   "source": [
    "from nltk.tokenize import word_tokenize\n",
    "\n",
    "print(word_tokenize(sentence))"
   ],
   "metadata": {
    "collapsed": false
   }
  },
  {
   "cell_type": "markdown",
   "source": [
    "### NLTK를 이용한 토크나이징 (문장)"
   ],
   "metadata": {
    "collapsed": false
   }
  },
  {
   "cell_type": "code",
   "execution_count": 4,
   "outputs": [
    {
     "name": "stdout",
     "output_type": "stream",
     "text": [
      "['\\nJames Maitland \"Jimmy\" Stewart (May 20, 1908 – July 2, 1997) was an American actor and military pilot.', \"Known for his distinctive drawl and everyman screen persona, Stewart's film career spanned 80 films from 1935 to 1991.\", 'With the strong morality he portrayed both on and off the screen, he epitomized the \"American ideal\" in the mid-twentieth century.', 'In 1999, the American Film Institute (AFI) ranked him third on its list of the greatest American male actors.', '[1]\\nBorn and raised in Indiana, Pennsylvania, Stewart started acting while at Princeton University.', 'After graduating in 1932, he began a career as a stage actor, appearing on Broadway and in summer stock productions.', \"In 1935, he landed his first supporting role in a movie and in 1938 he had his breakthrough in Frank Capra's ensemble comedy You Can't Take It with You.\", \"The following year, Stewart garnered his first of five Academy Award nominations for his portrayal of an idealized and virtuous man who becomes a senator in Capra's Mr. Smith Goes to Washington (1939).\", 'He won the Academy Award for Best Actor, the only competitive Oscar of his career, for his work in the comedy The Philadelphia Story (1940), which also starred Katharine Hepburn and Cary Grant.', 'A licensed amateur pilot, Stewart enlisted in the Army Air Forces soon after the US entered the Second World War in 1941.', 'After action in Europe, he attained the rank of colonel and received several awards for his service.', 'He was promoted to brigadier general in the Air Force Reserve in 1959, and retired in 1968 at which time he was awarded the Air Force Distinguished Service Medal.', 'There are several claims that President Ronald Reagan promoted Stewart to the honorary rank of major general in May 1985 at the same time as awarding his Medal of Freedom, but this is unsupported by evidence, as there was no legislative authorization for such a promotion, the record of the Medal of Freedom presentation at the Reagan Library contains no mention of a promotion,[2] and the video of the presentation contains no promotion.', '[3] President Reagan also recounted at a White House briefing that he was corrected by Stewart himself after Reagan incorrectly insisted he was a major general at a campaign event.', '[4]']\n"
     ]
    }
   ],
   "source": [
    "from nltk.tokenize import sent_tokenize\n",
    "\n",
    "print(sent_tokenize(sentence))"
   ],
   "metadata": {
    "collapsed": false
   }
  },
  {
   "cell_type": "markdown",
   "source": [
    "### Spacy를 이용한 토크나이징"
   ],
   "metadata": {
    "collapsed": false
   }
  },
  {
   "cell_type": "code",
   "execution_count": 5,
   "outputs": [
    {
     "name": "stdout",
     "output_type": "stream",
     "text": [
      "['\\n', 'James', 'Maitland', '\"', 'Jimmy', '\"', 'Stewart', '(', 'May', '20', ',', '1908', '–', 'July', '2', ',', '1997', ')', 'was', 'an', 'American', 'actor', 'and', 'military', 'pilot', '.', 'Known', 'for', 'his', 'distinctive', 'drawl', 'and', 'everyman', 'screen', 'persona', ',', 'Stewart', \"'s\", 'film', 'career', 'spanned', '80', 'films', 'from', '1935', 'to', '1991', '.', 'With', 'the', 'strong', 'morality', 'he', 'portrayed', 'both', 'on', 'and', 'off', 'the', 'screen', ',', 'he', 'epitomized', 'the', '\"', 'American', 'ideal', '\"', 'in', 'the', 'mid', '-', 'twentieth', 'century', '.', 'In', '1999', ',', 'the', 'American', 'Film', 'Institute', '(', 'AFI', ')', 'ranked', 'him', 'third', 'on', 'its', 'list', 'of', 'the', 'greatest', 'American', 'male', 'actors.[1', ']', '\\n', 'Born', 'and', 'raised', 'in', 'Indiana', ',', 'Pennsylvania', ',', 'Stewart', 'started', 'acting', 'while', 'at', 'Princeton', 'University', '.', 'After', 'graduating', 'in', '1932', ',', 'he', 'began', 'a', 'career', 'as', 'a', 'stage', 'actor', ',', 'appearing', 'on', 'Broadway', 'and', 'in', 'summer', 'stock', 'productions', '.', 'In', '1935', ',', 'he', 'landed', 'his', 'first', 'supporting', 'role', 'in', 'a', 'movie', 'and', 'in', '1938', 'he', 'had', 'his', 'breakthrough', 'in', 'Frank', 'Capra', \"'s\", 'ensemble', 'comedy', 'You', 'Ca', \"n't\", 'Take', 'It', 'with', 'You', '.', 'The', 'following', 'year', ',', 'Stewart', 'garnered', 'his', 'first', 'of', 'five', 'Academy', 'Award', 'nominations', 'for', 'his', 'portrayal', 'of', 'an', 'idealized', 'and', 'virtuous', 'man', 'who', 'becomes', 'a', 'senator', 'in', 'Capra', \"'s\", 'Mr.', 'Smith', 'Goes', 'to', 'Washington', '(', '1939', ')', '.', 'He', 'won', 'the', 'Academy', 'Award', 'for', 'Best', 'Actor', ',', 'the', 'only', 'competitive', 'Oscar', 'of', 'his', 'career', ',', 'for', 'his', 'work', 'in', 'the', 'comedy', 'The', 'Philadelphia', 'Story', '(', '1940', ')', ',', 'which', 'also', 'starred', 'Katharine', 'Hepburn', 'and', 'Cary', 'Grant', '.', 'A', 'licensed', 'amateur', 'pilot', ',', 'Stewart', 'enlisted', 'in', 'the', 'Army', 'Air', 'Forces', 'soon', 'after', 'the', 'US', 'entered', 'the', 'Second', 'World', 'War', 'in', '1941', '.', 'After', 'action', 'in', 'Europe', ',', 'he', 'attained', 'the', 'rank', 'of', 'colonel', 'and', 'received', 'several', 'awards', 'for', 'his', 'service', '.', 'He', 'was', 'promoted', 'to', 'brigadier', 'general', 'in', 'the', 'Air', 'Force', 'Reserve', 'in', '1959', ',', 'and', 'retired', 'in', '1968', 'at', 'which', 'time', 'he', 'was', 'awarded', 'the', 'Air', 'Force', 'Distinguished', 'Service', 'Medal', '.', 'There', 'are', 'several', 'claims', 'that', 'President', 'Ronald', 'Reagan', 'promoted', 'Stewart', 'to', 'the', 'honorary', 'rank', 'of', 'major', 'general', 'in', 'May', '1985', 'at', 'the', 'same', 'time', 'as', 'awarding', 'his', 'Medal', 'of', 'Freedom', ',', 'but', 'this', 'is', 'unsupported', 'by', 'evidence', ',', 'as', 'there', 'was', 'no', 'legislative', 'authorization', 'for', 'such', 'a', 'promotion', ',', 'the', 'record', 'of', 'the', 'Medal', 'of', 'Freedom', 'presentation', 'at', 'the', 'Reagan', 'Library', 'contains', 'no', 'mention', 'of', 'a', 'promotion,[2', ']', 'and', 'the', 'video', 'of', 'the', 'presentation', 'contains', 'no', 'promotion.[3', ']', 'President', 'Reagan', 'also', 'recounted', 'at', 'a', 'White', 'House', 'briefing', 'that', 'he', 'was', 'corrected', 'by', 'Stewart', 'himself', 'after', 'Reagan', 'incorrectly', 'insisted', 'he', 'was', 'a', 'major', 'general', 'at', 'a', 'campaign', 'event.[4', ']', '\\n']\n"
     ]
    }
   ],
   "source": [
    "import spacy\n",
    "\n",
    "nlp = spacy.load('en_core_web_sm')\n",
    "\n",
    "doc = nlp(sentence)\n",
    "\n",
    "word_tokens = [token.text for token in doc]\n",
    "print(word_tokens)"
   ],
   "metadata": {
    "collapsed": false
   }
  },
  {
   "cell_type": "code",
   "execution_count": 6,
   "outputs": [
    {
     "name": "stdout",
     "output_type": "stream",
     "text": [
      "['\\nJames Maitland \"Jimmy\" Stewart (May 20, 1908 – July 2, 1997) was an American actor and military pilot.', \"Known for his distinctive drawl and everyman screen persona, Stewart's film career spanned 80 films from 1935 to 1991.\", 'With the strong morality he portrayed both on and off the screen, he epitomized the \"American ideal\" in the mid-twentieth century.', 'In 1999, the American Film Institute (AFI) ranked him third on its list of the greatest American male actors.[1]\\nBorn and raised in Indiana, Pennsylvania, Stewart started acting while at Princeton University.', 'After graduating in 1932, he began a career as a stage actor, appearing on Broadway and in summer stock productions.', \"In 1935, he landed his first supporting role in a movie and in 1938 he had his breakthrough in Frank Capra's ensemble comedy You Can't Take It with You.\", \"The following year, Stewart garnered his first of five Academy Award nominations for his portrayal of an idealized and virtuous man who becomes a senator in Capra's Mr. Smith Goes to Washington (1939).\", 'He won the Academy Award for Best Actor, the only competitive Oscar of his career, for his work in the comedy The Philadelphia Story (1940), which also starred Katharine Hepburn and Cary Grant.', 'A licensed amateur pilot, Stewart enlisted in the Army Air Forces soon after the US entered the Second World War in 1941.', 'After action in Europe, he attained the rank of colonel and received several awards for his service.', 'He was promoted to brigadier general in the Air Force Reserve in 1959, and retired in 1968 at which time he was awarded the Air Force Distinguished Service Medal.', 'There are several claims that President Ronald Reagan promoted Stewart to the honorary rank of major general in May 1985 at the same time as awarding his Medal of Freedom, but this is unsupported by evidence, as there was no legislative authorization for such a promotion, the record of the Medal of Freedom presentation at the Reagan Library contains no mention of a promotion,[2] and the video of the presentation contains no promotion.[3] President Reagan also recounted at a White House briefing that he was corrected by Stewart himself after Reagan incorrectly insisted he was a major general at a campaign event.[4]\\n']\n"
     ]
    }
   ],
   "source": [
    "sent_tokens = [sent.text for sent in doc.sents]\n",
    "print(sent_tokens)"
   ],
   "metadata": {
    "collapsed": false
   }
  },
  {
   "cell_type": "markdown",
   "source": [
    "### Penn Treebank Tokenization\n",
    "\n",
    "1. 하이푼으로 구성된 단어는 하나로 유지한다.\n",
    "2. doesn't와 같이 아포스트로피로 '접어'가 함께하는 단어는 분리해준다."
   ],
   "metadata": {
    "collapsed": false
   }
  },
  {
   "cell_type": "code",
   "execution_count": 3,
   "outputs": [
    {
     "name": "stdout",
     "output_type": "stream",
     "text": [
      "트리뱅크 워드토크나이저 : ['Starting', 'a', 'home-based', 'restaurant', 'may', 'be', 'an', 'ideal.', 'it', 'does', \"n't\", 'have', 'a', 'food', 'chain', 'or', 'restaurant', 'of', 'their', 'own', '.']\n"
     ]
    }
   ],
   "source": [
    "from nltk.tokenize import TreebankWordTokenizer\n",
    "\n",
    "tokenizer = TreebankWordTokenizer()\n",
    "\n",
    "text = \"Starting a home-based restaurant may be an ideal. it doesn't have a food chain or restaurant of their own.\"\n",
    "print('트리뱅크 워드토크나이저 :',tokenizer.tokenize(text))"
   ],
   "metadata": {
    "collapsed": false
   }
  },
  {
   "cell_type": "markdown",
   "source": [
    "### 불용어"
   ],
   "metadata": {
    "collapsed": false
   }
  },
  {
   "cell_type": "code",
   "execution_count": 11,
   "outputs": [
    {
     "name": "stdout",
     "output_type": "stream",
     "text": [
      "불용어 개수 : 179\n",
      "불용어 10개 출력 : ['i', 'me', 'my', 'myself', 'we', 'our', 'ours', 'ourselves', 'you', \"you're\"]\n",
      "불용어 제거 전 : ['Family', 'is', 'not', 'an', 'important', 'thing', '.', 'It', \"'s\", 'everything', '.']\n",
      "불용어 제거 후 : ['Family', 'important', 'thing', '.', 'It', \"'s\", 'everything', '.']\n"
     ]
    }
   ],
   "source": [
    "from nltk.corpus import stopwords\n",
    "from nltk.tokenize import word_tokenize\n",
    "from konlpy.tag import Okt\n",
    "\n",
    "stop_words_list = stopwords.words('english')\n",
    "print('불용어 개수 :', len(stop_words_list))\n",
    "print('불용어 10개 출력 :',stop_words_list[:10])\n",
    "\n",
    "example = \"Family is not an important thing. It's everything.\"\n",
    "stop_words = set(stopwords.words('english'))\n",
    "\n",
    "word_tokens = word_tokenize(example)\n",
    "\n",
    "result = []\n",
    "for word in word_tokens:\n",
    "    if word not in stop_words:\n",
    "        result.append(word)\n",
    "\n",
    "print('불용어 제거 전 :',word_tokens)\n",
    "print('불용어 제거 후 :',result)"
   ],
   "metadata": {
    "collapsed": false
   }
  },
  {
   "cell_type": "markdown",
   "source": [
    "### 어간 추출"
   ],
   "metadata": {
    "collapsed": false
   }
  },
  {
   "cell_type": "code",
   "execution_count": 12,
   "outputs": [
    {
     "name": "stdout",
     "output_type": "stream",
     "text": [
      "어간 추출 전 : ['This', 'was', 'not', 'the', 'map', 'we', 'found', 'in', 'Billy', 'Bones', \"'s\", 'chest', ',', 'but', 'an', 'accurate', 'copy', ',', 'complete', 'in', 'all', 'things', '--', 'names', 'and', 'heights', 'and', 'soundings', '--', 'with', 'the', 'single', 'exception', 'of', 'the', 'red', 'crosses', 'and', 'the', 'written', 'notes', '.']\n",
      "어간 추출 후 : ['thi', 'wa', 'not', 'the', 'map', 'we', 'found', 'in', 'billi', 'bone', \"'s\", 'chest', ',', 'but', 'an', 'accur', 'copi', ',', 'complet', 'in', 'all', 'thing', '--', 'name', 'and', 'height', 'and', 'sound', '--', 'with', 'the', 'singl', 'except', 'of', 'the', 'red', 'cross', 'and', 'the', 'written', 'note', '.']\n"
     ]
    }
   ],
   "source": [
    "from nltk.stem import PorterStemmer\n",
    "from nltk.tokenize import word_tokenize\n",
    "\n",
    "stemmer = PorterStemmer()\n",
    "\n",
    "sentence = \"This was not the map we found in Billy Bones's chest, but an accurate copy, complete in all things--names and heights and soundings--with the single exception of the red crosses and the written notes.\"\n",
    "tokenized_sentence = word_tokenize(sentence)\n",
    "\n",
    "print('어간 추출 전 :', tokenized_sentence)\n",
    "print('어간 추출 후 :',[stemmer.stem(word) for word in tokenized_sentence])"
   ],
   "metadata": {
    "collapsed": false
   }
  },
  {
   "cell_type": "markdown",
   "source": [
    "### 표제어 추출"
   ],
   "metadata": {
    "collapsed": false
   }
  },
  {
   "cell_type": "code",
   "execution_count": 15,
   "outputs": [
    {
     "name": "stdout",
     "output_type": "stream",
     "text": [
      "표제어 추출 전 : ['policy', 'doing', 'organization', 'have', 'going', 'love', 'lives', 'fly', 'dies', 'watched', 'has', 'starting']\n",
      "표제어 추출 후 : ['policy', 'doing', 'organization', 'have', 'going', 'love', 'life', 'fly', 'dy', 'watched', 'ha', 'starting']\n",
      "die 추가 후 : ['policy', 'doing', 'organization', 'have', 'going', 'love', 'life', 'fly', 'dy', 'watched', 'ha', 'starting']\n"
     ]
    }
   ],
   "source": [
    "from nltk.stem import WordNetLemmatizer\n",
    "\n",
    "lemmatizer = WordNetLemmatizer()\n",
    "\n",
    "words = ['policy', 'doing', 'organization', 'have', 'going', 'love', 'lives', 'fly', 'dies', 'watched', 'has', 'starting']\n",
    "\n",
    "print('표제어 추출 전 :',words)\n",
    "print('표제어 추출 후 :',[lemmatizer.lemmatize(word) for word in words])"
   ],
   "metadata": {
    "collapsed": false
   }
  },
  {
   "cell_type": "code",
   "execution_count": 17,
   "outputs": [
    {
     "data": {
      "text/plain": "'die'"
     },
     "execution_count": 17,
     "metadata": {},
     "output_type": "execute_result"
    }
   ],
   "source": [
    "lemmatizer.lemmatize('dies', 'v')"
   ],
   "metadata": {
    "collapsed": false
   }
  },
  {
   "cell_type": "code",
   "execution_count": null,
   "outputs": [],
   "source": [],
   "metadata": {
    "collapsed": false
   }
  }
 ],
 "metadata": {
  "kernelspec": {
   "display_name": "Python 3",
   "language": "python",
   "name": "python3"
  },
  "language_info": {
   "codemirror_mode": {
    "name": "ipython",
    "version": 2
   },
   "file_extension": ".py",
   "mimetype": "text/x-python",
   "name": "python",
   "nbconvert_exporter": "python",
   "pygments_lexer": "ipython2",
   "version": "2.7.6"
  }
 },
 "nbformat": 4,
 "nbformat_minor": 0
}
